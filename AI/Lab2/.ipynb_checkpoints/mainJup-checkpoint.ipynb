{
 "cells": [
  {
   "cell_type": "markdown",
   "metadata": {},
   "source": [
    "### Preparing data and creating model:\n"
   ]
  },
  {
   "cell_type": "code",
   "execution_count": 1,
   "metadata": {
    "pycharm": {
     "name": "#%%\n"
    }
   },
   "outputs": [],
   "source": [
    "from ImageDatabase import ImageDatabase\n",
    "from Neuron import Neuron\n",
    "\n",
    "csv = 'pictures/labels.csv'\n",
    "test_csv = 'pictures/test_labels.csv'\n",
    "image_database = ImageDatabase(csv)\n",
    "test_images = ImageDatabase(test_csv)\n",
    "# print(image_database.__getitem__(4))\n",
    "# print(image_database.get_data())\n",
    "neuron = Neuron(image_database, [{'horizontal double': 0},\n",
    "                              {'horizontal one':    1},\n",
    "                              {'vertical double':   2},\n",
    "                              {'vertical one':      3}], 10000, 0.001, 0.9, 0.0000001)\n"
   ]
  },
  {
   "cell_type": "markdown",
   "metadata": {},
   "source": [
    "### Training model:"
   ]
  },
  {
   "cell_type": "code",
   "execution_count": null,
   "metadata": {
    "pycharm": {
     "is_executing": true,
     "name": "#%%\n"
    }
   },
   "outputs": [
    {
     "name": "stdout",
     "output_type": "stream",
     "text": [
      "Epoch N0 with loss = 1.587928056716919\n",
      "Epoch N100 with loss = 1.3588297367095947\n",
      "Epoch N200 with loss = 1.3009915351867676\n",
      "Epoch N300 with loss = 1.2443939447402954\n",
      "Epoch N400 with loss = 1.1718398332595825\n",
      "Epoch N500 with loss = 1.0815991163253784\n",
      "Epoch N600 with loss = 0.9846392273902893\n",
      "Epoch N700 with loss = 0.8890613317489624\n",
      "Epoch N800 with loss = 0.804476797580719\n",
      "Epoch N900 with loss = 0.7296470999717712\n",
      "Epoch N1000 with loss = 0.6664623022079468\n",
      "Epoch N1100 with loss = 0.6132122278213501\n",
      "Epoch N1200 with loss = 0.5648333430290222\n",
      "Epoch N1300 with loss = 0.519731879234314\n",
      "Epoch N1400 with loss = 0.4771885573863983\n",
      "Epoch N1500 with loss = 0.4386630356311798\n",
      "Epoch N1600 with loss = 0.404856413602829\n",
      "Epoch N1700 with loss = 0.37294936180114746\n",
      "Epoch N1800 with loss = 0.34437453746795654\n",
      "Epoch N1900 with loss = 0.31657925248146057\n",
      "Epoch N2000 with loss = 0.2920747399330139\n",
      "Epoch N2100 with loss = 0.2698576748371124\n",
      "Epoch N2200 with loss = 0.24960225820541382\n",
      "Epoch N2300 with loss = 0.22656597197055817\n",
      "Epoch N2400 with loss = 0.2099073827266693\n",
      "Epoch N2500 with loss = 0.19430993497371674\n",
      "Epoch N2600 with loss = 0.1794205605983734\n",
      "Epoch N2700 with loss = 0.16644829511642456\n",
      "Epoch N2800 with loss = 0.1547519564628601\n",
      "Epoch N2900 with loss = 0.14326192438602448\n",
      "Epoch N3000 with loss = 0.1343902200460434\n",
      "Epoch N3100 with loss = 0.1265282928943634\n",
      "Epoch N3200 with loss = 0.1195831298828125\n",
      "Epoch N3300 with loss = 0.11332589387893677\n",
      "Epoch N3400 with loss = 0.10760124027729034\n",
      "Epoch N3500 with loss = 0.10193201899528503\n",
      "Epoch N3600 with loss = 0.09728919714689255\n",
      "Epoch N3700 with loss = 0.09308867156505585\n",
      "Epoch N3800 with loss = 0.08927304297685623\n",
      "Epoch N3900 with loss = 0.08578413724899292\n",
      "Epoch N4000 with loss = 0.08203546702861786\n",
      "Epoch N4100 with loss = 0.07867348939180374\n",
      "Epoch N4200 with loss = 0.07546529173851013\n",
      "Epoch N4300 with loss = 0.07294101268053055\n",
      "Epoch N4400 with loss = 0.07071569561958313\n",
      "Epoch N4500 with loss = 0.06840956956148148\n",
      "Epoch N4600 with loss = 0.06625688821077347\n",
      "Epoch N4700 with loss = 0.06449571996927261\n",
      "Epoch N4800 with loss = 0.06287077814340591\n",
      "Epoch N4900 with loss = 0.06128731369972229\n",
      "Epoch N5000 with loss = 0.059836484491825104\n",
      "Epoch N5100 with loss = 0.0585113950073719\n",
      "Epoch N5200 with loss = 0.05722888931632042\n",
      "Epoch N5300 with loss = 0.05590495467185974\n",
      "Epoch N5400 with loss = 0.05436180159449577\n",
      "Epoch N5500 with loss = 0.0533042810857296\n",
      "Epoch N5600 with loss = 0.05227630212903023\n",
      "Epoch N5700 with loss = 0.051371682435274124\n",
      "Epoch N5800 with loss = 0.05053064972162247\n",
      "Epoch N5900 with loss = 0.04973756894469261\n",
      "Epoch N6000 with loss = 0.04898623749613762\n",
      "Epoch N6100 with loss = 0.048273295164108276\n"
     ]
    }
   ],
   "source": [
    "neuron.training()"
   ]
  },
  {
   "cell_type": "markdown",
   "metadata": {},
   "source": [
    "### Recognition:"
   ]
  },
  {
   "cell_type": "code",
   "execution_count": null,
   "metadata": {
    "pycharm": {
     "is_executing": true,
     "name": "#%%\n"
    }
   },
   "outputs": [],
   "source": [
    "neuron.check(test_images_database=test_images)\n"
   ]
  },
  {
   "cell_type": "code",
   "execution_count": null,
   "metadata": {
    "pycharm": {
     "is_executing": true,
     "name": "#%%\n"
    }
   },
   "outputs": [],
   "source": []
  }
 ],
 "metadata": {
  "kernelspec": {
   "display_name": "PyCharm (objects_recognition)",
   "language": "python",
   "name": "pycharm-c3b74e73"
  },
  "language_info": {
   "codemirror_mode": {
    "name": "ipython",
    "version": 3
   },
   "file_extension": ".py",
   "mimetype": "text/x-python",
   "name": "python",
   "nbconvert_exporter": "python",
   "pygments_lexer": "ipython3",
   "version": "3.8.5"
  }
 },
 "nbformat": 4,
 "nbformat_minor": 1
}
