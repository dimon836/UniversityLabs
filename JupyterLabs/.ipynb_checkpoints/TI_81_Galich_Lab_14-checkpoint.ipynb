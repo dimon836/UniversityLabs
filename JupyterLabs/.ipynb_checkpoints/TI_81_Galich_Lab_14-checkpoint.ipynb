{
 "cells": [
  {
   "cell_type": "markdown",
   "metadata": {
    "collapsed": true,
    "pycharm": {
     "name": "#%% md\n"
    }
   },
   "source": [
    "<div style=\"text-align:center; font-size:2rem\">\n",
    "КПІ ім. І. Сікорського<br>\n",
    "Телпоенергетичний факультет<br>\n",
    "Кафедра АПЕПС<br><br>\n",
    "Лабораторна робота №14<br>\n",
    "Варіант №4, 289<br><br>\n",
    "Виконав: <br>\n",
    "студент гр. ТІ-81<br>\n",
    "Галич Д. О.<br><br>\n",
    "Перевірив:<br>\n",
    "Сігайов А. О.<br><br>\n",
    "Київ КПІ 2019<br>\n",
    "</div>"
   ]
  },
  {
   "cell_type": "markdown",
   "metadata": {},
   "source": [
    "## Варіант №4 (289)\n",
    "\n",
    "### Завдання\n",
    "\n",
    "Дані натуральне число $m$, дійсні числа $a_1, ..., a_{30}$ (числа $a_1, ..., a_{30}$\n",
    "попарно різні, $m\\le30$). В послідовності $a_1, ..., a_{30}$ поміняти місцями \n",
    "найбільший член та член з номером $m$."
   ]
  },
  {
   "cell_type": "code",
   "execution_count": 4,
   "metadata": {
    "pycharm": {
     "is_executing": false,
     "name": "#%%\n"
    }
   },
   "outputs": [
    {
     "name": "stdout",
     "output_type": "stream",
     "text": [
      "Enter num(<=30): 26\n",
      "[75, 93, 29, 56, 80, 62, 65, 11, 31, 6, 59, 57, 11, 16, 19, 82, 65, 33, 36, 9, 62, 96, 21, 44, 31, 0, 77, 0, 8, 44]\n",
      "[75, 93, 29, 56, 80, 62, 65, 11, 31, 6, 59, 57, 11, 16, 19, 82, 65, 33, 36, 9, 62, 0, 21, 44, 31, 96, 77, 0, 8, 44]\n"
     ]
    }
   ],
   "source": [
    "import random\n",
    "\n",
    "m = int(input(\"Enter num(<=30): \"))\n",
    "a = [random.randint(0, 100) for i in range(30)]\n",
    "print(a)\n",
    "a[a.index(max(a))], a[m] = a[m], a[a.index(max(a))]\n",
    "print(a)"
   ]
  },
  {
   "cell_type": "code",
   "execution_count": null,
   "metadata": {},
   "outputs": [],
   "source": []
  }
 ],
 "metadata": {
  "kernelspec": {
   "display_name": "Python 3",
   "language": "python",
   "name": "python3"
  },
  "language_info": {
   "codemirror_mode": {
    "name": "ipython",
    "version": 3
   },
   "file_extension": ".py",
   "mimetype": "text/x-python",
   "name": "python",
   "nbconvert_exporter": "python",
   "pygments_lexer": "ipython3",
   "version": "3.7.5"
  },
  "pycharm": {
   "stem_cell": {
    "cell_type": "raw",
    "metadata": {
     "collapsed": false
    },
    "source": []
   }
  }
 },
 "nbformat": 4,
 "nbformat_minor": 1
}
