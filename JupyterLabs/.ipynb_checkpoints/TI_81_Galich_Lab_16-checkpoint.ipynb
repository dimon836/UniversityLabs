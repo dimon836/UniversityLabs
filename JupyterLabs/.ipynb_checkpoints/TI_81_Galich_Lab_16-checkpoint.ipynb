{
 "cells": [
  {
   "cell_type": "markdown",
   "metadata": {},
   "source": [
    "<div style=\"text-align:center; font-size:2rem\">\n",
    "КПІ ім. І. Сікорського<br>\n",
    "Телпоенергетичний факультет<br>\n",
    "Кафедра АПЕПС<br><br>\n",
    "Лабораторна робота №16<br>\n",
    "Варіант №4, 335<br><br>\n",
    "Виконав: <br>\n",
    "студент гр. ТІ-81<br>\n",
    "Галич Д. О.<br><br>\n",
    "Перевірив:<br>\n",
    "Сігайов А. О.<br><br>\n",
    "Київ КПІ 2019<br>\n",
    "</div>"
   ]
  },
  {
   "cell_type": "markdown",
   "metadata": {},
   "source": [
    "## Варіант №4 (335)\n",
    "\n",
    "### Завдання\n",
    "\n",
    "Дано символи натуральне число $n$. Обчислити:\n",
    "\n",
    "а)$$\\sum_{k=1}^{n} k(k+1)...k^2;$$\n",
    "\n",
    "б)$$\\sum_{k=1}^{n} k^k;$$\n",
    "\n",
    "в)$$\\sum_{k=1}^{n} {1\\over (k^2)!};$$\n",
    "\n",
    "г)$$\\sum_{k=1}^{n} {(-1)^k(2k^2+1)!};$$"
   ]
  },
  {
   "cell_type": "code",
   "execution_count": 3,
   "metadata": {
    "pycharm": {
     "name": "#%%\n"
    }
   },
   "outputs": [
    {
     "name": "stdout",
     "output_type": "stream",
     "text": [
      "Enter num: 11\n",
      "223057168355198515754012975238352921901753538241803363780672136965632226381626419371256692316259809811509829277517888983135300059183883053665650941828760699492098080942725537566898774660507829465\n",
      "295716741928\n",
      "1.041669422398637\n",
      "-57651072073405564859932599378988824389544612769748785289578514753791226660795447787952561780489668282092797576180580308216697645398799289372803711156470820394356933018051344408919392452255694480176128630040201867682856717821073703129334937518056012970230546394910831314702027426308751896245735731538758199038406840331338947317198628215698872526383078920380019890696467146110782861614680309898354526177756196759374607487099483204251801687690526558370299456617909562699128469126\n"
     ]
    }
   ],
   "source": [
    "from functools import reduce\n",
    "from operator import mul\n",
    "from math import factorial\n",
    "\n",
    "n = int(input(\"Enter num: \"))\n",
    "print(sum([reduce(mul, [i for i in range(k, k*k+1)]) for k in range(1, n + 1)]))\n",
    "print(sum([k**k for k in range(1, n + 1)]))\n",
    "print(sum([1/factorial(k**2) for k in range(1, n + 1)]))\n",
    "print(sum([(-1)**k*factorial(2*k**2+1) for k in range(1, n + 1)]))"
   ]
  },
  {
   "cell_type": "code",
   "execution_count": null,
   "metadata": {},
   "outputs": [],
   "source": []
  }
 ],
 "metadata": {
  "kernelspec": {
   "display_name": "Python 3",
   "language": "python",
   "name": "python3"
  },
  "language_info": {
   "codemirror_mode": {
    "name": "ipython",
    "version": 3
   },
   "file_extension": ".py",
   "mimetype": "text/x-python",
   "name": "python",
   "nbconvert_exporter": "python",
   "pygments_lexer": "ipython3",
   "version": "3.7.5"
  },
  "pycharm": {
   "stem_cell": {
    "cell_type": "raw",
    "metadata": {
     "collapsed": false
    },
    "source": []
   }
  }
 },
 "nbformat": 4,
 "nbformat_minor": 1
}
