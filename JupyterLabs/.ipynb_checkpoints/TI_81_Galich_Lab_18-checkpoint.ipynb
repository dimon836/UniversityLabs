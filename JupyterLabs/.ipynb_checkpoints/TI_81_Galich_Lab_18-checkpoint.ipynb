{
 "cells": [
  {
   "cell_type": "markdown",
   "metadata": {
    "collapsed": true,
    "pycharm": {
     "name": "#%% md\n"
    }
   },
   "source": [
    "<div style=\"text-align:center; font-size:2rem\">\n",
    "КПІ ім. І. Сікорського<br>\n",
    "Телпоенергетичний факультет<br>\n",
    "Кафедра АПЕПС<br><br>\n",
    "Лабораторна робота №18<br>\n",
    "Варіант №4, 385<br><br>\n",
    "Виконав: <br>\n",
    "студент гр. ТІ-81<br>\n",
    "Галич Д. О.<br><br>\n",
    "Перевірив:<br>\n",
    "Сігайов А. О.<br><br>\n",
    "Київ КПІ 2019<br>\n",
    "</div>"
   ]
  },
  {
   "cell_type": "markdown",
   "metadata": {},
   "source": [
    "## Варіант №4 (385)\n",
    "\n",
    "### Завдання\n",
    "\n",
    "В данній дійсній квадратній матриці порядку $n$ знайти суму елементів рядочку, в\n",
    "якому розташований елемент з найменшим значенням. Передбачається, що такий елемент\n",
    "єдиний."
   ]
  },
  {
   "cell_type": "code",
   "execution_count": 4,
   "metadata": {
    "pycharm": {
     "is_executing": false,
     "name": "#%%\n"
    }
   },
   "outputs": [
    {
     "name": "stdout",
     "output_type": "stream",
     "text": [
      "Enter size: 10\n",
      "[99, 75, 19, 73, 8, 69, 72, 81, 67, 13]\n",
      "[56, 45, 39, 4, 88, 86, 100, 94, 52, 86]\n",
      "[87, 87, 9, 35, 86, 73, 56, 54, 2, 12]\n",
      "[98, 53, 10, 57, 21, 23, 91, 46, 50, 40]\n",
      "[30, 83, 24, 67, 59, 68, 27, 79, 42, 52]\n",
      "[39, 92, 74, 27, 72, 49, 73, 18, 41, 92]\n",
      "[20, 42, 11, 41, 50, 85, 86, 3, 91, 38]\n",
      "[90, 26, 21, 85, 97, 9, 61, 47, 61, 8]\n",
      "[37, 99, 61, 22, 70, 31, 66, 46, 15, 7]\n",
      "[7, 56, 11, 100, 36, 53, 13, 76, 28, 21]\n",
      "401 9\n"
     ]
    }
   ],
   "source": [
    "import random\n",
    "\n",
    "n = int(input(\"Enter size: \"))\n",
    "a = [[random.randint(0, 100) for _ in range(n)] for _ in range(n)]\n",
    "for row in a: print(row)\n",
    "print(sum(a[a.index(min(a))]), a.index(min(a)))"
   ]
  },
  {
   "cell_type": "code",
   "execution_count": null,
   "metadata": {},
   "outputs": [],
   "source": []
  }
 ],
 "metadata": {
  "kernelspec": {
   "display_name": "Python 3",
   "language": "python",
   "name": "python3"
  },
  "language_info": {
   "codemirror_mode": {
    "name": "ipython",
    "version": 3
   },
   "file_extension": ".py",
   "mimetype": "text/x-python",
   "name": "python",
   "nbconvert_exporter": "python",
   "pygments_lexer": "ipython3",
   "version": "3.7.5"
  },
  "pycharm": {
   "stem_cell": {
    "cell_type": "raw",
    "metadata": {
     "collapsed": false
    },
    "source": []
   }
  }
 },
 "nbformat": 4,
 "nbformat_minor": 1
}
