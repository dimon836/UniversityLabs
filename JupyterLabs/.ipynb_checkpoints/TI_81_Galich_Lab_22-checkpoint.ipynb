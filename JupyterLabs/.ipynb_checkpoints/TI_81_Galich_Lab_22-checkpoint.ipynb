{
 "cells": [
  {
   "cell_type": "markdown",
   "metadata": {},
   "source": [
    "<div style=\"text-align:center; font-size:2rem\">\n",
    "КПІ ім. І. Сікорського<br>\n",
    "Телпоенергетичний факультет<br>\n",
    "Кафедра АПЕПС<br><br>\n",
    "Лабораторна робота №22<br>\n",
    "Варіант №4, 443<br><br>\n",
    "Виконав: <br>\n",
    "студент гр. ТІ-81<br>\n",
    "Галич Д.О.<br><br>\n",
    "Перевірив:<br>\n",
    "Сігайов А. О.<br><br>\n",
    "Київ КПІ 2019<br>\n",
    "</div>\n",
    "\n"
   ]
  },
  {
   "cell_type": "markdown",
   "metadata": {},
   "source": [
    "## Варіант №4(443)\n",
    "\n",
    "### Завдання\n",
    "\n",
    "Дані цілі числа $a, b, c, d$. Знайти площу п'ятикутника, зображеного на рис. 18. Визначити процедуру\n",
    "обчислення площі трикутника по трьом його сторонам."
   ]
  },
  {
   "cell_type": "code",
   "execution_count": 5,
   "metadata": {
    "pycharm": {
     "is_executing": false,
     "name": "#%%\n"
    }
   },
   "outputs": [
    {
     "name": "stdout",
     "output_type": "stream",
     "text": [
      "Enter integer(1<x<3): 2\n",
      "Enter integer(0.5<x<4.5): 3\n",
      "Enter integer: 10\n",
      "Enter integer: 10\n",
      "15.850596961290178\n"
     ]
    }
   ],
   "source": [
    "from math import sqrt\n",
    "\n",
    "\n",
    "a = int(input(\"Enter integer(1<x<3): \"))\n",
    "b = int(input(\"Enter integer(0.5<x<4.5): \"))\n",
    "c = int(input(\"Enter integer: \"))\n",
    "d = int(input(\"Enter integer: \"))\n",
    "p1 = sqrt(((1+2+a)/2)*((1+2+a)/2 - a)*((1+2+a)/2 - 1)*((1+2+a)/2 - 2))\n",
    "p2 = sqrt(((2.5+c+d)/2)*((2.5+c+d)/2 - d)*((2.5+c+d)/2 - c)*((2.5+c+d)/2 - 2.5))\n",
    "p3 = sqrt(((2+2.5+b)/2)*((2+2.5+b)/2 - b)*((2+2.5+b)/2 - 2)*((2+2.5+b)/2 - 2.5))\n",
    "print(p1 + p2 + p3)"
   ]
  }
 ],
 "metadata": {
  "kernelspec": {
   "display_name": "Python 3",
   "language": "python",
   "name": "python3"
  },
  "language_info": {
   "codemirror_mode": {
    "name": "ipython",
    "version": 3
   },
   "file_extension": ".py",
   "mimetype": "text/x-python",
   "name": "python",
   "nbconvert_exporter": "python",
   "pygments_lexer": "ipython3",
   "version": "3.7.5"
  },
  "pycharm": {
   "stem_cell": {
    "cell_type": "raw",
    "metadata": {
     "collapsed": false
    },
    "source": []
   }
  }
 },
 "nbformat": 4,
 "nbformat_minor": 1
}
