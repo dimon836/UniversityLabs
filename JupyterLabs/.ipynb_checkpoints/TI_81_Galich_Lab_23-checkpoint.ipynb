{
 "cells": [
  {
   "cell_type": "markdown",
   "metadata": {
    "collapsed": true,
    "pycharm": {
     "name": "#%% md\n"
    }
   },
   "source": [
    "<div style=\"text-align:center; font-size:2rem\">\n",
    "КПІ ім. І. Сікорського<br>\n",
    "Телпоенергетичний факультет<br>\n",
    "Кафедра АПЕПС<br><br>\n",
    "Лабораторна робота №23<br>\n",
    "Варіант №4, 474<br><br>\n",
    "Виконав: <br>\n",
    "студент гр. ТІ-81<br>\n",
    "Галич Д.О.<br><br>\n",
    "Перевірив:<br>\n",
    "Сігайов А. О.<br><br>\n",
    "Київ КПІ 2019<br>\n",
    "</div>"
   ]
  },
  {
   "cell_type": "markdown",
   "metadata": {},
   "source": [
    "## Варіант №4(474)\n",
    "\n",
    "### Завдання\n",
    "\n",
    "Дано натуральне число $n$. Записати в файл $g$ цілі числа \n",
    "$b_1, ..., b_n$, визначенні так, як вказано в задачах а) - д) \n",
    "задачі 139."
   ]
  },
  {
   "cell_type": "code",
   "execution_count": 6,
   "metadata": {
    "pycharm": {
     "is_executing": false,
     "name": "#%%\n"
    }
   },
   "outputs": [
    {
     "name": "stdout",
     "output_type": "stream",
     "text": [
      "Enter integer: 12\n"
     ]
    }
   ],
   "source": [
    "n = int(input(\"Enter integer: \"))\n",
    "with open('TI_81_Galich_Lab_23_g', 'w') as g:\n",
    "    g.write(str([i for i in range(1, n+1)]) + '\\n')\n",
    "    g.write(str([i**2 for i in range(1, n+1)]) + '\\n')\n",
    "    g.write(str([factorial(i) for i in range(1, n+1)]) + '\\n')\n",
    "    g.write(str([2**(i+1) for i in range(1, n+1)]) + '\\n')\n",
    "    g.write(str([2 ** i + 3 ** (i + 1) for i in range(1, n + 1)]) + '\\n')\n"
   ]
  }
 ],
 "metadata": {
  "kernelspec": {
   "display_name": "Python 3",
   "language": "python",
   "name": "python3"
  },
  "language_info": {
   "codemirror_mode": {
    "name": "ipython",
    "version": 3
   },
   "file_extension": ".py",
   "mimetype": "text/x-python",
   "name": "python",
   "nbconvert_exporter": "python",
   "pygments_lexer": "ipython3",
   "version": "3.7.5"
  },
  "pycharm": {
   "stem_cell": {
    "cell_type": "raw",
    "metadata": {
     "collapsed": false
    },
    "source": []
   }
  }
 },
 "nbformat": 4,
 "nbformat_minor": 1
}
