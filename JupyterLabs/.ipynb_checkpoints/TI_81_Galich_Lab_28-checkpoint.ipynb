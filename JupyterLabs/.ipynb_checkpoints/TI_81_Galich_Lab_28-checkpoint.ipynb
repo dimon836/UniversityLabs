{
 "cells": [
  {
   "cell_type": "markdown",
   "metadata": {},
   "source": [
    "<div style=\"text-align:center; font-size:2rem\">\n",
    "КПІ ім. І. Сікорського<br>\n",
    "Телпоенергетичний факультет<br>\n",
    "Кафедра АПЕПС<br><br>\n",
    "Лабораторна робота №28<br>\n",
    "Варіант №4, 599<br><br>\n",
    "Виконав: <br>\n",
    "студент гр. ТІ-81<br>\n",
    "Галич Д.О.<br><br>\n",
    "Перевірив:<br>\n",
    "Сігайов А. О.<br><br>\n",
    "Київ КПІ 2019<br>\n",
    "</div>"
   ]
  },
  {
   "cell_type": "markdown",
   "metadata": {},
   "source": [
    "## Варіант №4(599)\n",
    "\n",
    "### Завдання\n",
    "\n",
    "В послідовності дійсних чисел $a_0, a_1, ..., a_{10}$ обрати підпослідовність $a_{i_1},\n",
    "a_{i_2}, ..., a_{i_k}(0\\le i_1 < i_2 <...<i_k\\le 10)$, для якої значення \n",
    "$sin(a_{i_1} + a_{i_2} + ... + a_{i_k})$ є найбільшим. (Перебрати всі підпослідовності данної\n",
    "послідовності шляхом розгляду всіх послідовностей $b_0, b_1, ..., b_{10}$ з нулів та одиниць:\n",
    "$a_i$ входить в підпослідовність, якщо $b_i=1$. Використувати рішення задачі 589а.)"
   ]
  },
  {
   "cell_type": "code",
   "execution_count": 1,
   "metadata": {
    "pycharm": {
     "is_executing": false,
     "name": "#%%\n"
    }
   },
   "outputs": [
    {
     "name": "stdout",
     "output_type": "stream",
     "text": [
      "0.9999118601072672\n"
     ]
    }
   ],
   "source": [
    "from math import sin\n",
    "from itertools import combinations\n",
    "\n",
    "arr = [i for i in range(1, 11)]\n",
    "arr_false = [list(combinations(arr, i)) for i in range(1, 11)]\n",
    "arr_ans = [max([sin(sum(arr_false[k][j])) for j in range(len(arr_false[k]))]) for k in range(10)]\n",
    "print(max(arr_ans))"
   ]
  },
  {
   "cell_type": "code",
   "execution_count": null,
   "metadata": {},
   "outputs": [],
   "source": []
  }
 ],
 "metadata": {
  "kernelspec": {
   "display_name": "Python 3",
   "language": "python",
   "name": "python3"
  },
  "language_info": {
   "codemirror_mode": {
    "name": "ipython",
    "version": 3
   },
   "file_extension": ".py",
   "mimetype": "text/x-python",
   "name": "python",
   "nbconvert_exporter": "python",
   "pygments_lexer": "ipython3",
   "version": "3.7.5"
  },
  "pycharm": {
   "stem_cell": {
    "cell_type": "raw",
    "metadata": {
     "collapsed": false
    },
    "source": []
   }
  }
 },
 "nbformat": 4,
 "nbformat_minor": 1
}
