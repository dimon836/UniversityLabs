{
 "cells": [
  {
   "cell_type": "markdown",
   "metadata": {},
   "source": [
    "<div style=\"text-align:center; font-size:2rem\">\n",
    "КПІ ім. І. Сікорського<br>\n",
    "Телпоенергетичний факультет<br>\n",
    "Кафедра АПЕПС<br><br>\n",
    "Лабораторна робота №30<br>\n",
    "Варіант №4, 691, 700<br><br>\n",
    "Виконав: <br>\n",
    "студент гр. ТІ-81<br>\n",
    "Галич Д.О.<br><br>\n",
    "Перевірив:<br>\n",
    "Сігайов А. О.<br><br>\n",
    "Київ КПІ 2019<br>\n",
    "</div>"
   ]
  },
  {
   "cell_type": "markdown",
   "metadata": {},
   "source": [
    "## Варіант №4(691, 700)\n",
    "\n",
    "### Завдання\n",
    "\n",
    "691. Дано дійсні числа $a_1, ...,a_{64}$. Отримати дійсну квадратну\n",
    "матрицю порядку 8, елементами якої є числа $a_1, ...,a_{64}$, розташовані в ній по схемі,\n",
    "яка приведена на рис. 38, $а-г$.\n",
    "\n",
    "![](C:\\Users\\Dima\\Pictures\\Безымянный.jpg)"
   ]
  },
  {
   "cell_type": "code",
   "execution_count": null,
   "metadata": {},
   "outputs": [],
   "source": [
    "a = [i for i in range(64)]\n",
    "b = [[(a[8 * i + j] if i % 2 == 0 else a[8 * (i + 1) - j - 1]) for i in range(8)] for j in range(8)]\n",
    "[print(b[i]) for i in range(8)]\n",
    "b = [[(a[7 - i + j*8] if j % 2 == 0 else a[8 * j + i]) for i in range(8)] for j in range(8)]\n",
    "[print(b[i]) for i in range(8)]"
   ]
  },
  {
   "cell_type": "markdown",
   "metadata": {},
   "source": [
    "700. Дана квадратна матриця $A$ порядку $n$. Отримати матрицю $AB$; елементи матриці $B$ обчислюються\n",
    "по формулі:\n",
    "\n",
    "а) $b_{ij} = {1\\over {i+j-1}}$;\n",
    "\n",
    "б) \\begin{equation*}\n",
    "b_{ij} = \n",
    " \\begin{cases}\n",
    "   {1\\over {i+j-1}}, &\\text{якщо $i \\le j$},\\\\\n",
    "   {1\\over {i+j+1}} &\\text{в іншому випадку;}\n",
    " \\end{cases}\n",
    "\\end{equation*}\n",
    "\n",
    "в) \\begin{equation*}\n",
    "b_{ij} = \n",
    " \\begin{cases}\n",
    "   {1\\over {i+j-1}}, &\\text{якщо $i < j$},\\\\\n",
    "   {0}, &\\text{якщо $i=j$},\\\\\n",
    "   -{1\\over {i+j-1}} &\\text{в інших випадках}\n",
    " \\end{cases}\n",
    "\\end{equation*}\n",
    "\n",
    "$(i, j = 1,...,n)$."
   ]
  },
  {
   "cell_type": "code",
   "execution_count": 1,
   "metadata": {
    "pycharm": {
     "is_executing": false,
     "name": "#%%\n"
    }
   },
   "outputs": [],
   "source": [
    "import numpy as np\n",
    "\n",
    "n = int(input(\"Enter size: \"))\n",
    "a = np.array([[(i+1)*(j+1) for i in range(n)] for j in range(n)])\n",
    "b = np.array([[1/(i+j-1) for i in range(1, n+1)] for j in range(1, n+1)])\n",
    "print(a@b)\n",
    "b = [[1/(i+j-1) if i <= j else 1/(i+j+1) for i in range(1, n+1)] for j in range(1, n+1)]\n",
    "print(a@b)\n",
    "b = [[1/(i+j-1) if i < j else (0 if i == j else -1/(i+j-1)) for i in range(1, n+1)] \\\n",
    "     for j in range(1, n+1)]\n",
    "print(a@b)"
   ]
  }
 ],
 "metadata": {
  "kernelspec": {
   "display_name": "Python 3",
   "language": "python",
   "name": "python3"
  },
  "language_info": {
   "codemirror_mode": {
    "name": "ipython",
    "version": 3
   },
   "file_extension": ".py",
   "mimetype": "text/x-python",
   "name": "python",
   "nbconvert_exporter": "python",
   "pygments_lexer": "ipython3",
   "version": "3.7.5"
  },
  "pycharm": {
   "stem_cell": {
    "cell_type": "raw",
    "metadata": {
     "collapsed": false
    },
    "source": []
   }
  }
 },
 "nbformat": 4,
 "nbformat_minor": 1
}
