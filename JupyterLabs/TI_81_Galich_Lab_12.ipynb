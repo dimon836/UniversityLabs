{
 "cells": [
  {
   "cell_type": "markdown",
   "metadata": {},
   "source": [
    "<div style=\"text-align:center; font-size:2rem\">\n",
    "КПІ ім. І. Сікорського<br>\n",
    "Телпоенергетичний факультет<br>\n",
    "Кафедра АПЕПС<br><br>\n",
    "Лабораторна робота №12<br>\n",
    "Варіант №4, 213<br><br>\n",
    "Виконав: <br>\n",
    "студент гр. ТІ-81<br>\n",
    "Галич Д. О.<br><br>\n",
    "Перевірив:<br>\n",
    "Сігайов А. О.<br><br>\n",
    "Київ КПІ 2019<br>\n",
    "</div>"
   ]
  },
  {
   "cell_type": "markdown",
   "metadata": {},
   "source": [
    "## Варіант №4 (213)\n",
    "\n",
    "### Завдання\n",
    "\n",
    "Нехай \n",
    "\n",
    "$a_i$=$i-1\\over i+1$+sin$(i-1)^3\\over i+1$, $i$ = 1, 2, ...\n",
    "\n",
    "Дано натуральне $n$. Серед $a_1, ..., a_n$ знайти всі додатні числа, серед додатніх $a_1, ..., a_n$ вибрати найменьше число."
   ]
  },
  {
   "cell_type": "code",
   "execution_count": 5,
   "metadata": {},
   "outputs": [
    {
     "name": "stdout",
     "output_type": "stream",
     "text": [
      "0.6605280301294856\n"
     ]
    }
   ],
   "source": [
    "# import function from library\n",
    "from math import sin\n",
    "# number elements\n",
    "n = 10\n",
    "# filling the array\n",
    "a = [(i-1)/(i+1) + sin((i-1)**3/(i+1)) for i in range(0, n)]\n",
    "# print min element\n",
    "print(min([i for i in a if i > 0]))"
   ]
  }
 ],
 "metadata": {
  "kernelspec": {
   "display_name": "Python 3",
   "language": "python",
   "name": "python3"
  },
  "language_info": {
   "codemirror_mode": {
    "name": "ipython",
    "version": 3
   },
   "file_extension": ".py",
   "mimetype": "text/x-python",
   "name": "python",
   "nbconvert_exporter": "python",
   "pygments_lexer": "ipython3",
   "version": "3.7.5"
  }
 },
 "nbformat": 4,
 "nbformat_minor": 2
}
