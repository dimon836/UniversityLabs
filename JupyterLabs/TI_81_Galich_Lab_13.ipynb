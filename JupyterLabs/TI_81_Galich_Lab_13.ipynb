{
 "cells": [
  {
   "cell_type": "markdown",
   "source": [
    "<div style=\"text-align:center; font-size:2rem\">\n",
    "КПІ ім. І. Сікорського<br>\n",
    "Телпоенергетичний факультет<br>\n",
    "Кафедра АПЕПС<br><br>\n",
    "Лабораторна робота №13<br>\n",
    "Варіант №4, 241<br><br>\n",
    "Виконав: <br>\n",
    "студент гр. ТІ-81<br>\n",
    "Галич Д. О.<br><br>\n",
    "Перевірив:<br>\n",
    "Сігайов А. О.<br><br>\n",
    "Київ КПІ 2019<br>\n",
    "</div>"
   ],
   "metadata": {
    "collapsed": false
   }
  },
  {
   "cell_type": "markdown",
   "source": [
    "## Варіант №4 (241)\n",
    "\n",
    "### Завдання\n",
    "\n",
    "Дані натуральне число $n$, дійсне число $x$. Вичислити\n",
    "\n",
    "$$\\frac{(-1)^{[\\sqrt1]}}{1}x+\\frac{(-1)^{[\\sqrt2]}}{2}x^2+...+\\frac{(-1)^{[\\sqrt n]}}{n}x^n$$"
   ],
   "metadata": {
    "collapsed": false
   }
  },
  {
   "cell_type": "code",
   "execution_count": 1,
   "outputs": [
    {
     "name": "stdout",
     "text": [
      "Sum =  22656.49168912501\n"
     ],
     "output_type": "stream"
    }
   ],
   "source": [
    "import math\n",
    "\n",
    "# input counter of any elements in sum\n",
    "n = int(input(\"Enter counter num: \"))\n",
    "x = 10.05\n",
    "# print sum and summing elements\n",
    "print(\"Sum = \", sum([((-1)**int(math.sqrt(i))/i)*x**i for i in range(1, n + 1)]))"
   ],
   "metadata": {
    "collapsed": false,
    "pycharm": {
     "name": "#%%\n",
     "is_executing": false
    }
   }
  }
 ],
 "metadata": {
  "kernelspec": {
   "display_name": "Python 3",
   "language": "python",
   "name": "python3"
  },
  "language_info": {
   "codemirror_mode": {
    "name": "ipython",
    "version": 2
   },
   "file_extension": ".py",
   "mimetype": "text/x-python",
   "name": "python",
   "nbconvert_exporter": "python",
   "pygments_lexer": "ipython2",
   "version": "2.7.6"
  },
  "pycharm": {
   "stem_cell": {
    "cell_type": "raw",
    "source": [],
    "metadata": {
     "collapsed": false
    }
   }
  }
 },
 "nbformat": 4,
 "nbformat_minor": 0
}