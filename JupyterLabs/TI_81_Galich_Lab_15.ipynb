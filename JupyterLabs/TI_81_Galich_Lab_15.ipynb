{
 "cells": [
  {
   "cell_type": "markdown",
   "metadata": {
    "collapsed": true,
    "pycharm": {
     "name": "#%% md\n"
    }
   },
   "source": [
    "<div style=\"text-align:center; font-size:2rem\">\n",
    "КПІ ім. І. Сікорського<br>\n",
    "Телпоенергетичний факультет<br>\n",
    "Кафедра АПЕПС<br><br>\n",
    "Лабораторна робота №15<br>\n",
    "Варіант №4, 296<br><br>\n",
    "Виконав: <br>\n",
    "студент гр. ТІ-81<br>\n",
    "Галич Д. О.<br><br>\n",
    "Перевірив:<br>\n",
    "Сігайов А. О.<br><br>\n",
    "Київ КПІ 2019<br>\n",
    "</div>"
   ]
  },
  {
   "cell_type": "markdown",
   "source": [
    "## Варіант №4 (296)\n",
    "\n",
    "### Завдання\n",
    "\n",
    "Дано дійні числа $a_1, ..., a_{20}$(всі числа попарно різні). Змінити в\n",
    "цій послідовності місцями:\n",
    "\n",
    "а) найбільший і найменьший члени;\n",
    "\n",
    "б) найбільший і останній члени. "
   ],
   "metadata": {
    "collapsed": false
   }
  },
  {
   "cell_type": "code",
   "execution_count": 2,
   "outputs": [
    {
     "name": "stdout",
     "text": [
      "[15, 1, 25, 27, 26, 14, 6, 24, 22, 28, 7, 23, 19, 6, 12, 0, 12, 10, 26, 4]\n[15, 1, 25, 27, 26, 14, 6, 24, 22, 0, 7, 23, 19, 6, 12, 28, 12, 10, 26, 4]\n[15, 1, 25, 27, 26, 14, 6, 24, 22, 0, 7, 23, 19, 6, 12, 4, 12, 10, 26, 28]\n"
     ],
     "output_type": "stream"
    }
   ],
   "source": [
    "import random\n",
    "\n",
    "a = [random.randint(0, 30) for i in range(0, 20)]\n",
    "print(a)\n",
    "a[a.index(min(a))],  a[a.index(max(a))] = a[a.index(max(a))], a[a.index(min(a))]\n",
    "print(a)\n",
    "a[a.index(max(a))],  a[-1] = a[-1], a[a.index(max(a))]\n",
    "print(a)"
   ],
   "metadata": {
    "collapsed": false,
    "pycharm": {
     "name": "#%%\n",
     "is_executing": false
    }
   }
  }
 ],
 "metadata": {
  "kernelspec": {
   "display_name": "Python 3",
   "language": "python",
   "name": "python3"
  },
  "language_info": {
   "codemirror_mode": {
    "name": "ipython",
    "version": 2
   },
   "file_extension": ".py",
   "mimetype": "text/x-python",
   "name": "python",
   "nbconvert_exporter": "python",
   "pygments_lexer": "ipython2",
   "version": "2.7.6"
  },
  "pycharm": {
   "stem_cell": {
    "cell_type": "raw",
    "source": [],
    "metadata": {
     "collapsed": false
    }
   }
  }
 },
 "nbformat": 4,
 "nbformat_minor": 0
}