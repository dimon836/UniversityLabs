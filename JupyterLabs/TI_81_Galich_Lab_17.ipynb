{
 "cells": [
  {
   "cell_type": "markdown",
   "metadata": {
    "collapsed": true,
    "pycharm": {
     "name": "#%% md\n"
    }
   },
   "source": [
    "<div style=\"text-align:center; font-size:2rem\">\n",
    "КПІ ім. І. Сікорського<br>\n",
    "Телпоенергетичний факультет<br>\n",
    "Кафедра АПЕПС<br><br>\n",
    "Лабораторна робота №17<br>\n",
    "Варіант №4, 338<br><br>\n",
    "Виконав: <br>\n",
    "студент гр. ТІ-81<br>\n",
    "Галич Д. О.<br><br>\n",
    "Перевірив:<br>\n",
    "Сігайов А. О.<br><br>\n",
    "Київ КПІ 2019<br>\n",
    "</div>"
   ]
  },
  {
   "cell_type": "markdown",
   "metadata": {},
   "source": [
    "## Варіант №4 (338)\n",
    "\n",
    "### Завдання\n",
    "\n",
    "Дано натуральне число $n$, цілі числа $a_1, ..., a_{25}, b_1, ...,b_n$.\n",
    "Серед $a_1, ..., a_{25}$ немає таких що повторюються, немає їх і серед\n",
    "$b_1, ..., b_n$. \n",
    "\n",
    "а)Побудувати переріз послідовностей $a_1, ..., a_{25}$ і $b_1, ..., b_n$\n",
    "(тобто отримати в якому-небудь порядку всі числа, які належать \n",
    "послідовності $a_1, ..., a_{25}$ і послідовності $b_1, ..., b_n$\n",
    "одночасно).\n",
    "\n",
    "б)Побудувати об'єднання данних послідовностей.\n",
    "\n",
    "в)Отримати всі члени послідовності $b_1, ..., b_n$, які не входять в \n",
    "послідовність $a_1, ..., a_{25}$.\n",
    "\n",
    "г)Чи правда те, що всі члени послідовності $a_1, ..., a_{25}$\n",
    "входять в послідовність $b_1, ..., b_n$?\n",
    "\n",
    "д)Чи правда те, що всі члени послідовності $b_1, ..., b_n$ входять\n",
    "в послідовність $a_1, ..., a_{25}$?\n",
    "\n",
    "е)Чи правда те, що всі члени послідовності $a_1, ..., a_{25}$ входять\n",
    "в послідовність $b_1, ..., b_n$ і при цьому $a_1$ зустрічається в\n",
    "послідовності $b_1, ..., b_n$ не пізніше, чим $a_2, a_2$ - не пізніше,\n",
    "чим $a_3$, і т.д.?"
   ]
  },
  {
   "cell_type": "code",
   "execution_count": 1,
   "metadata": {
    "pycharm": {
     "is_executing": false,
     "name": "#%%\n"
    }
   },
   "outputs": [
    {
     "name": "stdout",
     "output_type": "stream",
     "text": [
      "a) {1, 2, 3, 4, 5, 6, 7, 8, 9, 10, 11, 12, 13, 14, 15, 16, 17, 18, 19, 20, 21, 22, 23, 24, 25}\n",
      "б) {0, 1, 2, 3, 4, 5, 6, 7, 8, 9, 10, 11, 12, 13, 14, 15, 16, 17, 18, 19, 20, 21, 22, 23, 24, 25, 26, 27, 28, 29}\n",
      "в) {0, 26, 27, 28, 29}\n",
      "г) True\n",
      "д) False\n",
      "е) True\n"
     ]
    }
   ],
   "source": [
    "n = int(input(\"Enter int: \"))\n",
    "a = set([i for i in range(1, 26)])\n",
    "b = set([i for i in range(0, n)])\n",
    "print('a)', a & b)\n",
    "print('б)', a | b)\n",
    "print('в)', b - a)\n",
    "print('г)', bool(b == a | b))\n",
    "print('д)', bool(a == a | b))\n",
    "print('е)', bool(a == b & a))"
   ]
  }
 ],
 "metadata": {
  "kernelspec": {
   "display_name": "Python 3",
   "language": "python",
   "name": "python3"
  },
  "language_info": {
   "codemirror_mode": {
    "name": "ipython",
    "version": 3
   },
   "file_extension": ".py",
   "mimetype": "text/x-python",
   "name": "python",
   "nbconvert_exporter": "python",
   "pygments_lexer": "ipython3",
   "version": "3.7.5"
  },
  "pycharm": {
   "stem_cell": {
    "cell_type": "raw",
    "source": [],
    "metadata": {
     "collapsed": false
    }
   }
  }
 },
 "nbformat": 4,
 "nbformat_minor": 1
}