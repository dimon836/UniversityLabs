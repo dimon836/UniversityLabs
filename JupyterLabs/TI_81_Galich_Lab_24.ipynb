{
 "cells": [
  {
   "cell_type": "markdown",
   "metadata": {
    "collapsed": true,
    "pycharm": {
     "name": "#%% md\n"
    }
   },
   "source": [
    "<div style=\"text-align:center; font-size:2rem\">\n",
    "КПІ ім. І. Сікорського<br>\n",
    "Телпоенергетичний факультет<br>\n",
    "Кафедра АПЕПС<br><br>\n",
    "Лабораторна робота №24<br>\n",
    "Варіант №4, 511<br><br>\n",
    "Виконав: <br>\n",
    "студент гр. ТІ-81<br>\n",
    "Галич Д.О.<br><br>\n",
    "Перевірив:<br>\n",
    "Сігайов А. О.<br><br>\n",
    "Київ КПІ 2019<br>\n",
    "</div>"
   ]
  },
  {
   "cell_type": "markdown",
   "metadata": {},
   "source": [
    "## Варіант №4(511)\n",
    "\n",
    "### Завдання\n",
    "Дано файл $f$, який містить в собі інформацію про книги. Інформація про кожну з книжок -\n",
    "це фамілія автора, назва і дата видання.\n",
    "\n",
    "а) Знайти назву книг данного автора, виданних з 1960 р.\n",
    "\n",
    "б) Вияснити, чи є книга з назвою «Информатика». Якщо так, то повідомити фамілію автора і\n",
    "рік видання. Якщо таких книг декілька, то повідомити інформацію про всі ці книги."
   ]
  },
  {
   "cell_type": "code",
   "execution_count": 2,
   "metadata": {
    "pycharm": {
     "name": "#%%\n"
    }
   },
   "outputs": [
    {
     "name": "stdout",
     "output_type": "stream",
     "text": [
      "Enter author's name:Queen\n",
      "ww 2015\n",
      "qq 2011\n"
     ]
    }
   ],
   "source": [
    "with open('TI_81_Galich_Lab_24_f', encoding='utf-8') as f:\n",
    "    a = [line.strip().split(' ') for line in f]\n",
    "    authorName = input(\"Enter author's name:\")\n",
    "    [print(a[i][1]) for i in range(len(a)) if int(a[i][2]) >= 1960 if a[i][0] == authorName]\n",
    "    [print(a[i][0], a[i][2]) for i in range(len(a)) if a[i][1] == 'Информатика'] \\\n",
    "        if 'Информатика' in [a[i][1] for i in range(len(a))] else print(False)"
   ]
  }
 ],
 "metadata": {
  "kernelspec": {
   "display_name": "Python 3",
   "language": "python",
   "name": "python3"
  },
  "language_info": {
   "codemirror_mode": {
    "name": "ipython",
    "version": 3
   },
   "file_extension": ".py",
   "mimetype": "text/x-python",
   "name": "python",
   "nbconvert_exporter": "python",
   "pygments_lexer": "ipython3",
   "version": "3.7.5"
  },
  "pycharm": {
   "stem_cell": {
    "cell_type": "raw",
    "metadata": {
     "collapsed": false
    },
    "source": []
   }
  }
 },
 "nbformat": 4,
 "nbformat_minor": 1
}
