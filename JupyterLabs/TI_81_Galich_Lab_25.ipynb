{
 "cells": [
  {
   "cell_type": "markdown",
   "metadata": {
    "collapsed": true,
    "pycharm": {
     "name": "#%% md\n"
    }
   },
   "source": [
    "]<div style=\"text-align:center; font-size:2rem\">\n",
    "КПІ ім. І. Сікорського<br>\n",
    "Телпоенергетичний факультет<br>\n",
    "Кафедра АПЕПС<br><br>\n",
    "Лабораторна робота №25<br>\n",
    "Варіант №4, 518<br><br>\n",
    "Виконав: <br>\n",
    "студент гр. ТІ-81<br>\n",
    "Галич Д.О.<br><br>\n",
    "Перевірив:<br>\n",
    "Сігайов А. О.<br><br>\n",
    "Київ КПІ 2019<br>\n",
    "</div>"
   ]
  },
  {
   "cell_type": "markdown",
   "source": [
    "## Варіант №4(518)\n",
    "\n",
    "### Завдання\n",
    "\n",
    "Дані натуральне $k$, символьний файл $f$ і текстовий файл $f_1$.\n",
    "Файл $f$ містить 30 слів(див. задачу 497), кожне з яких будемо \n",
    "називати ключовим. Сформувати файл $g$, який містить рядки файла\n",
    "$f_1$, циклічно зсунуті так, щоб кожне ключове слово, що входить\n",
    "в рядок, починалось з $k$-тої позиції. Рядки, які не містять \n",
    "ключових слів, в файл $g$ не включаються. Строки, які містять $n$\n",
    "ключових слів, записуються в файл $g$ $n$ раз."
   ],
   "metadata": {
    "collapsed": false
   }
  },
  {
   "cell_type": "code",
   "execution_count": null,
   "outputs": [],
   "source": [],
   "metadata": {
    "collapsed": false,
    "pycharm": {
     "name": "#%%\n"
    }
   }
  }
 ],
 "metadata": {
  "kernelspec": {
   "display_name": "Python 3",
   "language": "python",
   "name": "python3"
  },
  "language_info": {
   "codemirror_mode": {
    "name": "ipython",
    "version": 2
   },
   "file_extension": ".py",
   "mimetype": "text/x-python",
   "name": "python",
   "nbconvert_exporter": "python",
   "pygments_lexer": "ipython2",
   "version": "2.7.6"
  },
  "pycharm": {
   "stem_cell": {
    "cell_type": "raw",
    "source": [],
    "metadata": {
     "collapsed": false
    }
   }
  }
 },
 "nbformat": 4,
 "nbformat_minor": 0
}