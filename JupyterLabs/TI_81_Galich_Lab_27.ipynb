{
 "cells": [
  {
   "cell_type": "markdown",
   "source": [
    "<div style=\"text-align:center; font-size:2rem\">\n",
    "КПІ ім. І. Сікорського<br>\n",
    "Телпоенергетичний факультет<br>\n",
    "Кафедра АПЕПС<br><br>\n",
    "Лабораторна робота №27<br>\n",
    "Варіант №4, 557<br><br>\n",
    "Виконав: <br>\n",
    "студент гр. ТІ-81<br>\n",
    "Галич Д.О.<br><br>\n",
    "Перевірив:<br>\n",
    "Сігайов А. О.<br><br>\n",
    "Київ КПІ 2019<br>\n",
    "</div>"
   ],
   "metadata": {
    "collapsed": false
   }
  },
  {
   "cell_type": "markdown",
   "source": [
    "## Варіант №4(557)\n",
    "\n",
    "### Завдання\n",
    "\n",
    "Дано натуральне число $n$ $(n\\ge2).$ Знайти всі прості числа що менше ніж $n$, \n",
    "використовуючи решето Эратосфена. Решетом Эратосфена називають наступний спосіб. Випишемо\n",
    "підряд всі цілі числа від 2 до $n$. Перше просте число 2. Підкреслимо його, а всі числа\n",
    "які більші і кратні 2, закреслимо. Перше із чисел що залишилось - 3. Підкреслимо його як\n",
    "просте, а всі числа які більші, кратні 3, закреслимо. Перше число із тих що залишилось\n",
    "5, так як 4 вже закреслено. Підкреслимо його як просте, а всі числа що більші за нього,\n",
    "і кратні 5, закреслимо і т. д.\n",
    "\n",
    "2,3,~~4~~,5,~~6~~,7,~~8~~,~~9~~,~~10~~,..."
   ],
   "metadata": {
    "collapsed": false
   }
  },
  {
   "cell_type": "code",
   "execution_count": 2,
   "outputs": [
    {
     "name": "stdout",
     "text": [
      "[2, 3, 5]\n"
     ],
     "output_type": "stream"
    }
   ],
   "source": [
    "a = [i for i in range(2, int(input(\"Enter integer(n>2): \")) + 1)]\n",
    "for j in a:\n",
    "    for i in a:\n",
    "        if i % j == 0 and i != j:\n",
    "            a.remove(i)\n",
    "print(a)\n"
   ],
   "metadata": {
    "collapsed": false,
    "pycharm": {
     "name": "#%%\n",
     "is_executing": false
    }
   }
  }
 ],
 "metadata": {
  "kernelspec": {
   "name": "python3",
   "language": "python",
   "display_name": "Python 3"
  },
  "language_info": {
   "codemirror_mode": {
    "name": "ipython",
    "version": 2
   },
   "file_extension": ".py",
   "mimetype": "text/x-python",
   "name": "python",
   "nbconvert_exporter": "python",
   "pygments_lexer": "ipython2",
   "version": "2.7.6"
  },
  "pycharm": {
   "stem_cell": {
    "cell_type": "raw",
    "source": [],
    "metadata": {
     "collapsed": false
    }
   }
  }
 },
 "nbformat": 4,
 "nbformat_minor": 0
}