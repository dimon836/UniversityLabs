{
 "cells": [
  {
   "cell_type": "markdown",
   "metadata": {
    "collapsed": true,
    "pycharm": {
     "name": "#%% md\n"
    }
   },
   "source": [
    "<div style=\"text-align:center; font-size:2rem\">\n",
    "КПІ ім. І. Сікорського<br>\n",
    "Телпоенергетичний факультет<br>\n",
    "Кафедра АПЕПС<br><br>\n",
    "Лабораторна робота №29<br>\n",
    "Варіант №4, 609<br><br>\n",
    "Виконав: <br>\n",
    "студент гр. ТІ-81<br>\n",
    "Галич Д.О.<br><br>\n",
    "Перевірив:<br>\n",
    "Сігайов А. О.<br><br>\n",
    "Київ КПІ 2019<br>\n",
    "</div>"
   ]
  },
  {
   "cell_type": "markdown",
   "source": [
    "## Варіант №4(609)\n",
    "\n",
    "### Завдання\n",
    "\n",
    "Дано дійсні числа $x, y$. Обчислити відстань від точки площини з координатами ($x, y$)\n",
    "до границі квадрата *) з вершинами:\n",
    "\n",
    "а) (-0.5, -0.5), (-0.5, 0.5), (0.5, 0.5), (0.5, -0.5)\n",
    "\n",
    "б) (0, 0), (0, 1), (1, 1), (1, 0)."
   ],
   "metadata": {
    "collapsed": false,
    "pycharm": {
     "name": "#%% md\n"
    }
   }
  },
  {
   "cell_type": "code",
   "execution_count": 1,
   "outputs": [
    {
     "name": "stdout",
     "text": [
      "a) 8.276472678623424\nб) 7.615773105863909\n"
     ],
     "output_type": "stream"
    }
   ],
   "source": [
    "from math import sqrt\n",
    "\n",
    "\n",
    "def distance(x1, y1, x2, y2):\n",
    "    return sqrt((x2-x1)**2 + (y2-y1)**2)\n",
    "\n",
    "\n",
    "x = float(input(\"Enter x coordinate:\"))\n",
    "y = float(input(\"Enter y coordinate:\"))\n",
    "a = [distance(x, y, 0.5, 0.5), distance(x, y, -0.5, -0.5), distance(x, y, 0.5, -0.5), distance(x, y, -0.5, 0.5)]\n",
    "if -0.5 < x < 0.5:\n",
    "    a.append(abs(abs(y)-0.5))\n",
    "if -0.5 < y < 0.5:\n",
    "    a.append(abs(abs(x)-0.5))\n",
    "print('a)', min(a))\n",
    "\n",
    "a = [distance(x, y, 0, 1), distance(x, y, 1, 1), distance(x, y, 1, 0), distance(x, y, 0, 0)]\n",
    "if 0 < x < 1 and y > 1:\n",
    "    a.append(abs(y-1))\n",
    "if 0 < x < 1 and y < 0:\n",
    "    a.append(abs(y))\n",
    "if 0 < x < 1 and 0 < y < 1:\n",
    "    a.append(min([min([1-x, x]), min([1-y, y])]))\n",
    "if 0 < y < 1 and x > 1:\n",
    "    a.append(abs(y-1))\n",
    "if 0 < y < 1 and x < 0:\n",
    "    a.append(abs(y))\n",
    "print('б)', min(a))\n"
   ],
   "metadata": {
    "collapsed": false,
    "pycharm": {
     "name": "#%%\n",
     "is_executing": false
    }
   }
  }
 ],
 "metadata": {
  "kernelspec": {
   "display_name": "Python 3",
   "language": "python",
   "name": "python3"
  },
  "language_info": {
   "codemirror_mode": {
    "name": "ipython",
    "version": 2
   },
   "file_extension": ".py",
   "mimetype": "text/x-python",
   "name": "python",
   "nbconvert_exporter": "python",
   "pygments_lexer": "ipython2",
   "version": "2.7.6"
  },
  "pycharm": {
   "stem_cell": {
    "cell_type": "raw",
    "source": [],
    "metadata": {
     "collapsed": false
    }
   }
  }
 },
 "nbformat": 4,
 "nbformat_minor": 0
}