{
 "cells": [
  {
   "cell_type": "markdown",
   "metadata": {},
   "source": [
    "<div style=\"text-align:center; font-size:2rem\">\n",
    "КПІ ім. І. Сікорського<br>\n",
    "Телпоенергетичний факультет<br>\n",
    "Кафедра АПЕПС<br><br>\n",
    "Лабораторна робота №3<br>\n",
    "Варіант №4, 254<br><br>\n",
    "Виконав: <br>\n",
    "студент гр. ТІ-81<br>\n",
    "Галич Д. О.<br><br>\n",
    "Перевірив:<br>\n",
    "Сігайов А. О.<br><br>\n",
    "Київ КПІ 2019<br>\n",
    "</div>"
   ]
  },
  {
   "cell_type": "markdown",
   "metadata": {},
   "source": [
    "## Варіант №4 (254)\n",
    "\n",
    "### Завдання\n",
    "\n",
    "Дані натуральне число n, символи $ s_1$, ..., $s_n$. Вияснити, чи є в послідовності такі члени послідовності $s_i$, $s_{i+1}$, що $s_i$ - це кома, а $s_{i+1}$ - тире."
   ]
  },
  {
   "cell_type": "code",
   "execution_count": 1,
   "metadata": {
    "pycharm": {
     "is_executing": false
    }
   },
   "outputs": [
    {
     "name": "stdout",
     "text": [
      "This string isn't have ',-'!\n"
     ],
     "output_type": "stream"
    }
   ],
   "source": [
    "# input\n",
    "ch = input(\"Enter char: \")\n",
    "i = 0\n",
    "n = len(ch)\n",
    "k = 0\n",
    "for i in range(0, n):\n",
    "    if ch[i] == ',' and ch[i+1] == '-':\n",
    "        k = k + 1\n",
    "if k >= 1:\n",
    "    print(\"This string is have ',-'!\")\n",
    "else:\n",
    "    print(\"This string isn't have ',-'!\")\n",
    "    \n",
    "    "
   ]
  },
  {
   "cell_type": "markdown",
   "metadata": {},
   "source": [
    "# 1\n",
    "char: FWENniwef\n",
    "This string isn't have ',-'!\n",
    "# 2\n",
    "Enter char: EQWweer,-wqr\n",
    "This string is have ',-'!"
   ]
  }
 ],
 "metadata": {
  "kernelspec": {
   "display_name": "Python 3",
   "language": "python",
   "name": "python3"
  },
  "language_info": {
   "codemirror_mode": {
    "name": "ipython",
    "version": 3
   },
   "file_extension": ".py",
   "mimetype": "text/x-python",
   "name": "python",
   "nbconvert_exporter": "python",
   "pygments_lexer": "ipython3",
   "version": "3.7.5"
  }
 },
 "nbformat": 4,
 "nbformat_minor": 2
}