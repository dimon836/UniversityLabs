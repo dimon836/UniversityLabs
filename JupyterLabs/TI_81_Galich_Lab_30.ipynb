{
 "cells": [
  {
   "cell_type": "markdown",
   "metadata": {},
   "source": [
    "<div style=\"text-align:center; font-size:2rem\">\n",
    "КПІ ім. І. Сікорського<br>\n",
    "Телпоенергетичний факультет<br>\n",
    "Кафедра АПЕПС<br><br>\n",
    "Лабораторна робота №30<br>\n",
    "Варіант №4, 691, 700<br><br>\n",
    "Виконав: <br>\n",
    "студент гр. ТІ-81<br>\n",
    "Галич Д.О.<br><br>\n",
    "Перевірив:<br>\n",
    "Сігайов А. О.<br><br>\n",
    "Київ КПІ 2019<br>\n",
    "</div>"
   ]
  },
  {
   "cell_type": "markdown",
   "metadata": {},
   "source": [
    "## Варіант №4(691, 700)\n",
    "\n",
    "### Завдання\n",
    "\n",
    "691. Дано дійсні числа $a_1, ...,a_{64}$. Отримати дійсну квадратну\n",
    "матрицю порядку 8, елементами якої є числа $a_1, ...,a_{64}$, розташовані в ній по схемі,\n",
    "яка приведена на рис. 38, $а-г$.\n",
    "\n",
    "![](C:\\Users\\Dima\\Pictures\\Безымянный.jpg)"
   ]
  },
  {
   "cell_type": "code",
   "execution_count": 1,
   "metadata": {
    "pycharm": {
     "is_executing": false
    }
   },
   "outputs": [
    {
     "name": "stdout",
     "text": [
      "[0, 15, 16, 31, 32, 47, 48, 63]\n[1, 14, 17, 30, 33, 46, 49, 62]\n[2, 13, 18, 29, 34, 45, 50, 61]\n[3, 12, 19, 28, 35, 44, 51, 60]\n[4, 11, 20, 27, 36, 43, 52, 59]\n[5, 10, 21, 26, 37, 42, 53, 58]\n[6, 9, 22, 25, 38, 41, 54, 57]\n[7, 8, 23, 24, 39, 40, 55, 56]\n[7, 6, 5, 4, 3, 2, 1, 0]\n[8, 9, 10, 11, 12, 13, 14, 15]\n[23, 22, 21, 20, 19, 18, 17, 16]\n[24, 25, 26, 27, 28, 29, 30, 31]\n[39, 38, 37, 36, 35, 34, 33, 32]\n[40, 41, 42, 43, 44, 45, 46, 47]\n[55, 54, 53, 52, 51, 50, 49, 48]\n[56, 57, 58, 59, 60, 61, 62, 63]\n"
     ],
     "output_type": "stream"
    },
    {
     "data": {
      "text/plain": "[None, None, None, None, None, None, None, None]"
     },
     "metadata": {},
     "output_type": "execute_result",
     "execution_count": 1
    }
   ],
   "source": [
    "a = [i for i in range(64)]\n",
    "b = [[(a[8 * i + j] if i % 2 == 0 else a[8 * (i + 1) - j - 1]) for i in range(8)] for j in range(8)]\n",
    "[print(b[i]) for i in range(8)]\n",
    "b = [[(a[7 - i + j*8] if j % 2 == 0 else a[8 * j + i]) for i in range(8)] for j in range(8)]\n",
    "[print(b[i]) for i in range(8)]"
   ]
  },
  {
   "cell_type": "markdown",
   "metadata": {},
   "source": [
    "700. Дана квадратна матриця $A$ порядку $n$. Отримати матрицю $AB$; елементи матриці $B$ обчислюються\n",
    "по формулі:\n",
    "\n",
    "а) $b_{ij} = {1\\over {i+j-1}}$;\n",
    "\n",
    "б) \\begin{equation*}\n",
    "b_{ij} = \n",
    " \\begin{cases}\n",
    "   {1\\over {i+j-1}}, &\\text{якщо $i \\le j$},\\\\\n",
    "   {1\\over {i+j+1}} &\\text{в іншому випадку;}\n",
    " \\end{cases}\n",
    "\\end{equation*}\n",
    "\n",
    "в) \\begin{equation*}\n",
    "b_{ij} = \n",
    " \\begin{cases}\n",
    "   {1\\over {i+j-1}}, &\\text{якщо $i < j$},\\\\\n",
    "   {0}, &\\text{якщо $i=j$},\\\\\n",
    "   -{1\\over {i+j-1}} &\\text{в інших випадках}\n",
    " \\end{cases}\n",
    "\\end{equation*}\n",
    "\n",
    "$(i, j = 1,...,n)$."
   ]
  },
  {
   "cell_type": "code",
   "execution_count": 2,
   "metadata": {
    "pycharm": {
     "is_executing": false,
     "name": "#%%\n"
    }
   },
   "outputs": [
    {
     "name": "stdout",
     "text": [
      "[[ 4.          2.71666667  2.1         1.72142857]\n [ 8.          5.43333333  4.2         3.44285714]\n [12.          8.15        6.3         5.16428571]\n [16.         10.86666667  8.4         6.88571429]]\n[[ 4.          2.46666667  1.8         1.39880952]\n [ 8.          4.93333333  3.6         2.79761905]\n [12.          7.4         5.4         4.19642857]\n [16.          9.86666667  7.2         5.5952381 ]]\n[[ 3.          1.05       -0.16666667 -1.15      ]\n [ 6.          2.1        -0.33333333 -2.3       ]\n [ 9.          3.15       -0.5        -3.45      ]\n [12.          4.2        -0.66666667 -4.6       ]]\n"
     ],
     "output_type": "stream"
    }
   ],
   "source": [
    "import numpy as np\n",
    "\n",
    "n = int(input(\"Enter size: \"))\n",
    "a = np.array([[(i+1)*(j+1) for i in range(n)] for j in range(n)])\n",
    "b = np.array([[1/(i+j-1) for i in range(1, n+1)] for j in range(1, n+1)])\n",
    "print(a@b)\n",
    "b = [[1/(i+j-1) if i <= j else 1/(i+j+1) for i in range(1, n+1)] for j in range(1, n+1)]\n",
    "print(a@b)\n",
    "b = [[1/(i+j-1) if i < j else (0 if i == j else -1/(i+j-1)) for i in range(1, n+1)] for j in range(1, n+1)]\n",
    "print(a@b)"
   ]
  },
  {
   "cell_type": "code",
   "execution_count": 2,
   "metadata": {
    "pycharm": {
     "is_executing": false
    }
   },
   "outputs": [],
   "source": []
  }
 ],
 "metadata": {
  "kernelspec": {
   "display_name": "Python 3",
   "language": "python",
   "name": "python3"
  },
  "language_info": {
   "codemirror_mode": {
    "name": "ipython",
    "version": 3
   },
   "file_extension": ".py",
   "mimetype": "text/x-python",
   "name": "python",
   "nbconvert_exporter": "python",
   "pygments_lexer": "ipython3",
   "version": "3.7.5"
  },
  "pycharm": {
   "stem_cell": {
    "cell_type": "raw",
    "metadata": {
     "collapsed": false
    },
    "source": []
   }
  }
 },
 "nbformat": 4,
 "nbformat_minor": 1
}