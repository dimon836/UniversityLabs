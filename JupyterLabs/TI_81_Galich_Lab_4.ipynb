{
 "cells": [
  {
   "cell_type": "markdown",
   "metadata": {},
   "source": [
    "<div style=\"text-align:center; font-size:2rem\">\n",
    "КПІ ім. І. Сікорського<br>\n",
    "Телпоенергетичний факультет<br>\n",
    "Кафедра АПЕПС<br><br>\n",
    "Лабораторна робота №4<br>\n",
    "Варіант №4, 805<br><br>\n",
    "Виконав: <br>\n",
    "студент гр. ТІ-81<br>\n",
    "Галич Д. О.<br><br>\n",
    "Перевірив:<br>\n",
    "Сігайов А. О.<br><br>\n",
    "Київ КПІ 2019<br>\n",
    "</div>"
   ]
  },
  {
   "cell_type": "markdown",
   "metadata": {},
   "source": [
    "## Варіант №4 (805)\n",
    "\n",
    "### Завдання\n",
    "\n",
    "Дано текст; якщо в ньому немає маленьких латинських літер, то залишити його без змін, інакше кожен із символів, слідуючих за першою групою маленьких латинських літер, замінити на точку."
   ]
  },
  {
   "cell_type": "code",
   "execution_count": 3,
   "metadata": {},
   "outputs": [
    {
     "name": "stdout",
     "output_type": "stream",
     "text": [
      "Th...............................\n",
      "TH1S STR1NG 1SN'T HAVE SMA!! !AT1N0 LETTERS\n"
     ]
    }
   ],
   "source": [
    "# Объявление строк\n",
    "ch1 = \"This string is have small letters\"\n",
    "ch2 = \"TH1S STR1NG 1SN\\'T HAVE SMA!! !AT1N0 LETTERS\"\n",
    "# Переменные для цыклов \n",
    "i = 0\n",
    "n1 = len(ch1)\n",
    "n2 = len(ch2)\n",
    "# Проверка и перезапись строки\n",
    "for i in range(0, n1):\n",
    "    if 'a' <= ch1[i] <= 'z':\n",
    "        k = i\n",
    "        j = i = 0\n",
    "        for j in range(k+1, n1):\n",
    "            ch1 = ch1[:j] + '.' + ch1[j+1:]\n",
    "        break\n",
    "print(ch1)\n",
    "for i in range(0, n2):\n",
    "    if 'a' <= ch2[i] <= 'z':\n",
    "        k = i\n",
    "        j = i = 0\n",
    "        for j in range(k+1, n2):\n",
    "            ch2 = ch2[:j] + '.' + ch2[j+1:]\n",
    "        break\n",
    "print(ch2)"
   ]
  },
  {
   "cell_type": "markdown",
   "metadata": {},
   "source": [
    "Th...............................\n",
    "TH1S STR1NG 1SN'T HAVE SMA!! !AT1N0 LETTERS"
   ]
  }
 ],
 "metadata": {
  "kernelspec": {
   "display_name": "Python 3",
   "language": "python",
   "name": "python3"
  },
  "language_info": {
   "codemirror_mode": {
    "name": "ipython",
    "version": 3
   },
   "file_extension": ".py",
   "mimetype": "text/x-python",
   "name": "python",
   "nbconvert_exporter": "python",
   "pygments_lexer": "ipython3",
   "version": "3.7.3"
  }
 },
 "nbformat": 4,
 "nbformat_minor": 2
}
