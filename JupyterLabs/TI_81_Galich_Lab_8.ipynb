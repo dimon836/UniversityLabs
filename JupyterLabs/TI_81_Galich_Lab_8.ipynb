{
 "cells": [
  {
   "cell_type": "markdown",
   "metadata": {},
   "source": [
    "<div style=\"text-align:center; font-size:2rem\">\n",
    "КПІ ім. І. Сікорського<br>\n",
    "Телпоенергетичний факультет<br>\n",
    "Кафедра АПЕПС<br><br>\n",
    "Лабораторна робота №8<br>\n",
    "Варіант №4, 136(г)<br><br>\n",
    "Виконав: <br>\n",
    "студент гр. ТІ-81<br>\n",
    "Галич Д. О.<br><br>\n",
    "Перевірив:<br>\n",
    "Сігайов А. О.<br><br>\n",
    "Київ КПІ 2019<br>\n",
    "</div>"
   ]
  },
  {
   "cell_type": "markdown",
   "metadata": {},
   "source": [
    "## Варіант №4 (136(г))\n",
    "\n",
    "### Завдання\n",
    "\n",
    "Дані натуральне число $n$, дійні числа $a_1, ..., a_n$.\n",
    "\n",
    "Обчислити:\n",
    "\n",
    "г) $|a_1|\\cdot |a_2|\\cdot ... \\cdot |a_n|$;"
   ]
  },
  {
   "cell_type": "code",
   "execution_count": 23,
   "metadata": {},
   "outputs": [
    {
     "name": "stdout",
     "output_type": "stream",
     "text": [
      "3543.75\n"
     ]
    }
   ],
   "source": [
    "# import functions from libraries\n",
    "from functools import reduce\n",
    "from math import fabs\n",
    "# nubmer of elements\n",
    "n = 10\n",
    "# filling the array\n",
    "a = [-1**i*(i+1)/2 for i in range(0, n)]\n",
    "# counting and print product\n",
    "print(reduce(lambda x, y: fabs(x * y), a))"
   ]
  }
 ],
 "metadata": {
  "kernelspec": {
   "display_name": "Python 3",
   "language": "python",
   "name": "python3"
  },
  "language_info": {
   "codemirror_mode": {
    "name": "ipython",
    "version": 3
   },
   "file_extension": ".py",
   "mimetype": "text/x-python",
   "name": "python",
   "nbconvert_exporter": "python",
   "pygments_lexer": "ipython3",
   "version": "3.7.5"
  }
 },
 "nbformat": 4,
 "nbformat_minor": 2
}
