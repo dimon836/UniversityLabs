{
 "cells": [
  {
   "cell_type": "markdown",
   "metadata": {},
   "source": [
    "<div style=\"text-align:center; font-size:2rem\">\n",
    "КПІ ім. І. Сікорського<br>\n",
    "Телпоенергетичний факультет<br>\n",
    "Кафедра АПЕПС<br><br>\n",
    "Лабораторна робота №9<br>\n",
    "Варіант №4, 156<br><br>\n",
    "Виконав: <br>\n",
    "студент гр. ТІ-81<br>\n",
    "Галич Д. О.<br><br>\n",
    "Перевірив:<br>\n",
    "Сігайов А. О.<br><br>\n",
    "Київ КПІ 2019<br>\n",
    "</div>"
   ]
  },
  {
   "cell_type": "markdown",
   "metadata": {},
   "source": [
    "## Варіант №4 (156)\n",
    "\n",
    "### Завдання\n",
    "\n",
    "Дані натуральне число $n$, дійні числа $x_1, ..., x_n (n\\ge3)$. Обчислити:\n",
    "\n",
    "а)$(x_1+2x_2+x_3)(x_2+2x_3+x_4)...(x_{n-2}+2x_{n-1}+x_n)$\n",
    "\n",
    "б)$(x_1+x_2+x_3)x_2+(x_2+x_3+x_4)x_3+...+(x_{n-2}+x_{n-1}+x_n)x_{n-1}$"
   ]
  },
  {
   "cell_type": "code",
   "execution_count": 12,
   "metadata": {},
   "outputs": [
    {
     "name": "stdout",
     "output_type": "stream",
     "text": [
      "a) sum = 92897280.0\n",
      "б) sum = 213.0\n"
     ]
    }
   ],
   "source": [
    "# import function from library\n",
    "from functools import reduce\n",
    "# number of elements\n",
    "n = 10\n",
    "# filling the array\n",
    "a = [(i+1)/2 for i in range(0, n)]\n",
    "# counting and print answers\n",
    "print(\"a) sum =\", reduce(lambda x, y: x * y, [(a[i] + 2*a[i+1] + a[i+2]) for i in range(0, n - 2)]))\n",
    "print(\"б) sum =\", reduce(lambda x, y: x + y, [(a[i] + a[i+1] + a[i+2])*a[i+1] for i in range(0, n - 2)]))"
   ]
  }
 ],
 "metadata": {
  "kernelspec": {
   "display_name": "Python 3",
   "language": "python",
   "name": "python3"
  },
  "language_info": {
   "codemirror_mode": {
    "name": "ipython",
    "version": 3
   },
   "file_extension": ".py",
   "mimetype": "text/x-python",
   "name": "python",
   "nbconvert_exporter": "python",
   "pygments_lexer": "ipython3",
   "version": "3.7.5"
  }
 },
 "nbformat": 4,
 "nbformat_minor": 2
}
